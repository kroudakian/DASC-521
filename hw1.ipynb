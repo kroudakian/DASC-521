{
 "cells": [
  {
   "cell_type": "code",
   "execution_count": 2,
   "id": "b50da24f",
   "metadata": {},
   "outputs": [],
   "source": [
    "import numpy as np\n",
    "import pandas as pd"
   ]
  },
  {
   "cell_type": "code",
   "execution_count": 3,
   "id": "cc18a44c",
   "metadata": {},
   "outputs": [],
   "source": [
    "X = np.genfromtxt(\"hw01_data_points.csv\", delimiter = \",\", dtype = str)\n",
    "y = np.genfromtxt(\"hw01_class_labels.csv\", delimiter = \",\", dtype = int)"
   ]
  },
  {
   "cell_type": "code",
   "execution_count": 4,
   "id": "7960f39e",
   "metadata": {},
   "outputs": [],
   "source": [
    "def safelog(x):\n",
    "    return(np.log(x + 1e-100))"
   ]
  },
  {
   "cell_type": "code",
   "execution_count": 5,
   "id": "e7c29199",
   "metadata": {},
   "outputs": [
    {
     "ename": "NameError",
     "evalue": "name 'y_test' is not defined",
     "output_type": "error",
     "traceback": [
      "\u001b[0;31m---------------------------------------------------------------------------\u001b[0m",
      "\u001b[0;31mNameError\u001b[0m                                 Traceback (most recent call last)",
      "Input \u001b[0;32mIn [5]\u001b[0m, in \u001b[0;36m<cell line: 1>\u001b[0;34m()\u001b[0m\n\u001b[0;32m----> 1\u001b[0m a\u001b[38;5;241m=\u001b[39m\u001b[43my_test\u001b[49m\u001b[38;5;241m-\u001b[39m\u001b[38;5;241m1\u001b[39m\n",
      "\u001b[0;31mNameError\u001b[0m: name 'y_test' is not defined"
     ]
    }
   ],
   "source": [
    "a=y_test-1"
   ]
  },
  {
   "cell_type": "code",
   "execution_count": 13,
   "id": "f91a4635",
   "metadata": {},
   "outputs": [
    {
     "data": {
      "text/plain": [
       "array([2, 2, 1, ..., 2, 2, 2])"
      ]
     },
     "execution_count": 13,
     "metadata": {},
     "output_type": "execute_result"
    }
   ],
   "source": [
    "y_test"
   ]
  },
  {
   "cell_type": "code",
   "execution_count": 12,
   "id": "9a410dc5",
   "metadata": {},
   "outputs": [
    {
     "data": {
      "text/plain": [
       "array([1, 1, 0, ..., 1, 1, 1])"
      ]
     },
     "execution_count": 12,
     "metadata": {},
     "output_type": "execute_result"
    }
   ],
   "source": [
    "a"
   ]
  },
  {
   "cell_type": "code",
   "execution_count": 6,
   "id": "24380f94",
   "metadata": {},
   "outputs": [
    {
     "name": "stdout",
     "output_type": "stream",
     "text": [
      "(50000, 21)\n",
      "(50000,)\n",
      "(44727, 21)\n",
      "(44727,)\n"
     ]
    }
   ],
   "source": [
    "# STEP 3\n",
    "# first 50000 data points should be included to train\n",
    "# remaining 44727 data points should be included to test\n",
    "# should return X_train, y_train, X_test, and y_test\n",
    "def train_test_split(X, y):\n",
    "    # your implementation starts below\n",
    "    X_train = X[:50000]\n",
    "    y_train = y[:50000]\n",
    "    X_test = X[50000:]\n",
    "    y_test = y[50000:]\n",
    "    # your implementation ends above\n",
    "    return(X_train, y_train, X_test, y_test)\n",
    "\n",
    "X_train, y_train, X_test, y_test = train_test_split(X, y)\n",
    "print(X_train.shape)\n",
    "print(y_train.shape)\n",
    "print(X_test.shape)\n",
    "print(y_test.shape)\n"
   ]
  },
  {
   "cell_type": "code",
   "execution_count": 7,
   "id": "0894cc5a",
   "metadata": {},
   "outputs": [
    {
     "name": "stdout",
     "output_type": "stream",
     "text": [
      "[0.04466000000000003, 0.95534]\n"
     ]
    }
   ],
   "source": [
    "# STEP 4\n",
    "# assuming that there are K classes\n",
    "# should return a numpy array with shape (K,)\n",
    "def estimate_prior_probabilities(y):\n",
    "    # your implementation starts below\n",
    "    a=y-1\n",
    "    class_priors = [1-np.mean(a),np.mean(a)]\n",
    "    # your implementation ends above\n",
    "    return(class_priors)\n",
    "\n",
    "class_priors = estimate_prior_probabilities(y_train)\n",
    "print(class_priors)\n"
   ]
  },
  {
   "cell_type": "code",
   "execution_count": 8,
   "id": "79242489",
   "metadata": {},
   "outputs": [
    {
     "name": "stdout",
     "output_type": "stream",
     "text": [
      "[[0.18674429019256605, 0.17913121361397225, 0.14375279892521273, 0.13390058217644424, 0.11912225705329153, 0.11374832064487236, 0.10523958799820869, 0.10076130765785939, 0.08687863860277653, 0.0761307657859382, 0.06941334527541423, 0.08687863860277653, 0.10120913569189431, 0.09628302731751008, 0.08105687416032244, 0.07926556202418271, 0.23510971786833856, 0.050156739811912224, 0.24540976265114195, 0.23734885803851322, 0.25391849529780564], [0.2683233194464798, 0.2771997404065568, 0.27232189586953337, 0.25808612640525885, 0.2815332761111227, 0.277848724014487, 0.27219628613896624, 0.2608704754328302, 0.2548830782757971, 0.2661879540268386, 0.2738501475914334, 0.26955848179705655, 0.289132664810434, 0.2848619339711516, 0.27694852094542255, 0.2526011681704943, 0.2776603094186363, 0.24981681914292295, 0.28335461720434607, 0.28025624385035697, 0.2927962819519752]]\n",
      "[[0.2861621137483206, 0.2852664576802508, 0.2857142857142857, 0.2942230183609494, 0.3116883116883117, 0.31751007613076576, 0.3103448275862069, 0.31258396775638153, 0.2973578145991939, 0.28034034930586654, 0.3054187192118227, 0.31840573219883567, 0.3381101656963726, 0.3694581280788177, 0.3891625615763547, 0.3399014778325123, 0.2955665024630542, 0.6784594715629199, 0.14464845499328258, 0.21988356471115092, 0.25391849529780564], [0.22821194548537693, 0.22961458747670987, 0.22318755626269182, 0.22536479159252204, 0.2168861347792409, 0.2274792220570687, 0.22278979211589592, 0.22431804383779597, 0.2451692591119392, 0.22618125484120838, 0.2090355266187954, 0.211589591140327, 0.20369711306969246, 0.20145707287457867, 0.22607658006573575, 0.2452739338874118, 0.2119873552871229, 0.32248204827600646, 0.22067536165134927, 0.24414344631230767, 0.21081499780182972]]\n",
      "[[0.15718763994626064, 0.15002239140170176, 0.15181370353784146, 0.14285714285714285, 0.14420062695924765, 0.13166144200626959, 0.12628750559785043, 0.11912225705329153, 0.09180474697716078, 0.10120913569189431, 0.11150918047469771, 0.11733094491715182, 0.11330049261083744, 0.08687863860277653, 0.06180026869682042, 0.06180026869682042, 0.2136139722346619, 0.0013434841021047917, 0.5002239140170175, 0.1889834303627407, 0.22212270488132557], [0.23763267527791154, 0.23371783867523604, 0.23704649653526494, 0.23957962610170203, 0.24077291854208974, 0.24613226704628718, 0.24098226809303494, 0.24696966525006803, 0.23233613163899763, 0.24558795821382964, 0.2580233215399753, 0.2614357192203823, 0.2580023865848808, 0.26591579961060985, 0.24190340611719388, 0.24449934054891453, 0.26585299474532625, 0.26924445747063874, 0.28672514497456403, 0.23241987145937573, 0.24140096719492538]]\n",
      "[[0.36990595611285265, 0.38557993730407525, 0.4187192118226601, 0.42901925660546353, 0.42498880429914915, 0.43708016121809223, 0.458128078817734, 0.4675324675324675, 0.5239587998208688, 0.542319749216301, 0.5136587550380654, 0.477384684281236, 0.4473802060008957, 0.4473802060008957, 0.46798029556650245, 0.5190326914464846, 0.2557098074339454, 0.27004030452306316, 0.109717868338558, 0.3537841468875952, 0.27004030452306316], [0.2658320597902317, 0.25946783344149726, 0.26744405133250987, 0.2769694559005171, 0.2608076705675466, 0.24853978688215714, 0.2640316536521029, 0.2678418154793058, 0.26761153097326607, 0.2620428329181234, 0.25909100424979586, 0.2574162078422342, 0.24916783553499278, 0.24776519354365986, 0.25507149287164776, 0.2576255573931794, 0.24449934054891453, 0.15845667511043188, 0.2092448761697406, 0.2431804383779597, 0.2549877530512697]]\n"
     ]
    }
   ],
   "source": [
    "# STEP 5\n",
    "# assuming that there are K classes and D features\n",
    "# should return four numpy arrays with shape (K, D)\n",
    "#pAcd = probability of having adenine (A) for class c at location d\n",
    "\n",
    "def estimate_nucleotide_probabilities(X, y):\n",
    "    # your implementation starts below\n",
    "    X_1 = X[y==1] \n",
    "    X_2 = X[y==2]\n",
    "    N_1 = len(X_1)\n",
    "    N_2 = len(X_2)\n",
    "    \n",
    "    pAcd=[[],[]]\n",
    "    \n",
    "    for d in range(21): \n",
    "        pAcd[0].append(sum((X_1[i][d] == 'A') for i in range(len(X[y==1])))/len(X[y==1]))\n",
    "        pAcd[1].append(sum((X_2[i][d] == 'A') for i in range(len(X[y==2])))/len(X[y==2]))\n",
    "    \n",
    "    pCcd=[[],[]]\n",
    "    for d in range(21): \n",
    "        pCcd[0].append(sum((X_1[i][d] == 'C') for i in range(N_1))/N_1)\n",
    "        pCcd[1].append(sum((X_2[i][d] == 'C') for i in range(N_2))/N_2)\n",
    "    \n",
    "    pGcd=[[],[]]\n",
    "    for d in range(21): \n",
    "        pGcd[0].append(sum((X_1[i][d] == 'G') for i in range(N_1))/N_1)\n",
    "        pGcd[1].append(sum((X_2[i][d] == 'G') for i in range(N_2))/N_2)\n",
    "    \n",
    "    pTcd=[[],[]]\n",
    "    for d in range(21): \n",
    "        pTcd[0].append(sum((X_1[i][d] == 'T') for i in range(N_1))/N_1)\n",
    "        pTcd[1].append(sum((X_2[i][d] == 'T') for i in range(N_2))/N_2)\n",
    "      \n",
    "       \n",
    "    \n",
    "    # your implementation ends above\n",
    "    return(pAcd, pCcd, pGcd, pTcd)\n",
    "\n",
    "pAcd, pCcd, pGcd, pTcd = estimate_nucleotide_probabilities(X_train, y_train)\n",
    "print(pAcd)\n",
    "print(pCcd)\n",
    "print(pGcd)\n",
    "print(pTcd)"
   ]
  },
  {
   "cell_type": "code",
   "execution_count": 9,
   "id": "8a1b065a",
   "metadata": {},
   "outputs": [
    {
     "name": "stdout",
     "output_type": "stream",
     "text": [
      "[[-32.29602984 -28.67631805]\n",
      " [-35.36510932 -29.06687849]\n",
      " [-33.1594779  -28.50829296]\n",
      " ...\n",
      " [-37.17901126 -29.28659414]\n",
      " [-35.6365549  -29.75138901]\n",
      " [-28.72885394 -28.68471489]]\n",
      "[[-31.88852108 -28.73182527]\n",
      " [-40.83809258 -29.40573888]\n",
      " [-30.6177392  -29.98270774]\n",
      " ...\n",
      " [-38.49757139 -28.9923932 ]\n",
      " [-24.40343148 -29.115305  ]\n",
      " [-37.58089652 -28.27846954]]\n"
     ]
    }
   ],
   "source": [
    "def calculate_score_values(X, pAcd, pCcd, pGcd, pTcd, class_priors):\n",
    "    N = X.shape[0]  # Get the number of data points\n",
    "    K = len(class_priors)  # Get the number of classes\n",
    "    \n",
    "    # Initialize a NumPy array to store the score values\n",
    "    score_values = np.zeros((N, K))\n",
    "    \n",
    "    # Iterate over data points\n",
    "    for i in range(N):\n",
    "        # Initialize class-specific scores\n",
    "        class_scores = np.zeros(K)\n",
    "        \n",
    "        # Iterate over classes\n",
    "        for c in range(K):\n",
    "            # Calculate the score value for class c and data point i\n",
    "            score = np.log(class_priors[c])  # Initialize with the logarithm of the class prior\n",
    "            for d in range(21):  # Assuming 21 features\n",
    "                # Add the logarithm of the probability of the observed nucleotide at location d\n",
    "                nucleotide = X[i][d]\n",
    "                if nucleotide == 'A':\n",
    "                    score += np.log(pAcd[c][d])\n",
    "                elif nucleotide == 'C':\n",
    "                    score += np.log(pCcd[c][d])\n",
    "                elif nucleotide == 'G':\n",
    "                    score += np.log(pGcd[c][d])\n",
    "                elif nucleotide == 'T':\n",
    "                    score += np.log(pTcd[c][d])\n",
    "            \n",
    "            # Store the score for class c\n",
    "            class_scores[c] = score\n",
    "        \n",
    "        # Store the class-specific scores for data point i\n",
    "        score_values[i] = class_scores\n",
    "    \n",
    "    return score_values\n",
    "scores_train = calculate_score_values(X_train, pAcd, pCcd, pGcd, pTcd, class_priors)\n",
    "print(scores_train)\n",
    "\n",
    "scores_test = calculate_score_values(X_test, pAcd, pCcd, pGcd, pTcd, class_priors)\n",
    "print(scores_test)"
   ]
  },
  {
   "cell_type": "code",
   "execution_count": 10,
   "id": "28ceff5c",
   "metadata": {},
   "outputs": [
    {
     "name": "stdout",
     "output_type": "stream",
     "text": [
      "[[ 1489  1460]\n",
      " [  744 46307]]\n",
      "[[ 1314  1300]\n",
      " [  686 41427]]\n"
     ]
    }
   ],
   "source": [
    "def calculate_confusion_matrix(y_truth, scores):\n",
    "    K = scores.shape[1]  # Get the number of classes (K)\n",
    "    \n",
    "    # Initialize a NumPy array to store the confusion matrix\n",
    "    confusion_matrix = np.zeros((K, K), dtype=int)\n",
    "    \n",
    "    # Get the predicted class labels by finding the class with the highest score for each data point\n",
    "    y_pred = np.argmax(scores, axis=1)\n",
    "    \n",
    "    # Iterate over data points\n",
    "    for i in range(len(y_truth)):\n",
    "        true_class = y_truth[i] - 1  # Assuming class labels are 1-based\n",
    "        predicted_class = y_pred[i]\n",
    "        \n",
    "        # Increment the corresponding cell in the confusion matrix\n",
    "        confusion_matrix[predicted_class][true_class] += 1\n",
    "    \n",
    "    return confusion_matrix\n",
    "confusion_train = calculate_confusion_matrix(y_train, scores_train)\n",
    "print(confusion_train)\n",
    "\n",
    "confusion_test = calculate_confusion_matrix(y_test, scores_test)\n",
    "print(confusion_test)"
   ]
  },
  {
   "cell_type": "code",
   "execution_count": null,
   "id": "3be6ca1f",
   "metadata": {},
   "outputs": [],
   "source": []
  }
 ],
 "metadata": {
  "kernelspec": {
   "display_name": "Python 3 (ipykernel)",
   "language": "python",
   "name": "python3"
  },
  "language_info": {
   "codemirror_mode": {
    "name": "ipython",
    "version": 3
   },
   "file_extension": ".py",
   "mimetype": "text/x-python",
   "name": "python",
   "nbconvert_exporter": "python",
   "pygments_lexer": "ipython3",
   "version": "3.9.12"
  },
  "varInspector": {
   "cols": {
    "lenName": 16,
    "lenType": 16,
    "lenVar": 40
   },
   "kernels_config": {
    "python": {
     "delete_cmd_postfix": "",
     "delete_cmd_prefix": "del ",
     "library": "var_list.py",
     "varRefreshCmd": "print(var_dic_list())"
    },
    "r": {
     "delete_cmd_postfix": ") ",
     "delete_cmd_prefix": "rm(",
     "library": "var_list.r",
     "varRefreshCmd": "cat(var_dic_list()) "
    }
   },
   "types_to_exclude": [
    "module",
    "function",
    "builtin_function_or_method",
    "instance",
    "_Feature"
   ],
   "window_display": false
  }
 },
 "nbformat": 4,
 "nbformat_minor": 5
}
